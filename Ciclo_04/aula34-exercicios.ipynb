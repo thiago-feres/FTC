{
 "cells": [
  {
   "cell_type": "code",
   "execution_count": 12,
   "id": "20b176f6-db35-46fc-862b-5d787ed5b030",
   "metadata": {},
   "outputs": [],
   "source": [
    "import pandas as pd\n",
    "df = pd.read_csv(\"train.csv\")\n",
    "df1 = df.copy()\n",
    "\n",
    "# convertendo Delivery_person_Age para int\n",
    "linhas_selecionadas = df1['Delivery_person_Age'] != 'NaN '\n",
    "df1 = df1.loc[linhas_selecionadas, :].copy()\n",
    "df1['Delivery_person_Age'] = df1['Delivery_person_Age'].astype(int)\n",
    "\n",
    "# convertendo Delivery_person_Ratings para float\n",
    "df1['Delivery_person_Ratings'] = df1['Delivery_person_Ratings'].astype(float)\n",
    "\n",
    "# convertendo Order_Date para datetime\n",
    "df1['Order_Date'] = pd.to_datetime(df1['Order_Date'], format=('%d-%m-%Y'))\n",
    "\n",
    "# convertendo multiple_deliveries para int\n",
    "linhas_selecionadas = df1['multiple_deliveries'] != 'NaN '\n",
    "df1 = df1.loc[linhas_selecionadas, :].copy()\n",
    "df1['multiple_deliveries'] = df1['multiple_deliveries'].astype(int)\n",
    "\n",
    "# removendo espacos dentro de strings\n",
    "df1.loc[:, 'ID'] = df1.loc[:, 'ID'].str.strip()\n",
    "df1.loc[:, 'Road_traffic_density'] = df1.loc[:, 'Road_traffic_density'].str.strip()\n",
    "df1.loc[:, 'Type_of_order'] = df1.loc[:, 'Type_of_order'].str.strip()\n",
    "df1.loc[:, 'Type_of_vehicle'] = df1.loc[:, 'Type_of_vehicle'].str.strip()\n",
    "df1.loc[:, 'City'] = df1.loc[:, 'City'].str.strip()"
   ]
  },
  {
   "cell_type": "markdown",
   "id": "8c9f9d3a-f3af-480b-8da1-5c5e273fef09",
   "metadata": {},
   "source": [
    "# Exercicios"
   ]
  },
  {
   "cell_type": "markdown",
   "id": "e10f3bc9-afef-47d3-86c7-24b7785e4b60",
   "metadata": {},
   "source": [
    "### 1. Qual o número total de entregadores cadastrados na base de dados?\n"
   ]
  },
  {
   "cell_type": "markdown",
   "id": "0b7cbdcb-ddf2-4205-b90c-850d82ab98c5",
   "metadata": {},
   "source": [
    "### 2. Qual o número total de entregadores únicos cadastrados na base de dados?\n"
   ]
  },
  {
   "cell_type": "markdown",
   "id": "9233ec2f-72f5-47dd-bdba-b6f4cb4f50bf",
   "metadata": {},
   "source": [
    "### 3. Qual a mediana de idade dos entregadores por cidade?\n"
   ]
  },
  {
   "cell_type": "markdown",
   "id": "ca5937bc-23c5-4550-b0a9-690ee486fe55",
   "metadata": {},
   "source": [
    "### 4. Qual o número total de entregas feitas por densidade de tráfego?\n"
   ]
  },
  {
   "cell_type": "markdown",
   "id": "a2db3e12-3dc6-4857-96a9-65100b7bf7d7",
   "metadata": {},
   "source": [
    "### 5. Qual a média das avaliações das entregas feitas por densidade de tráfego?\n"
   ]
  },
  {
   "cell_type": "markdown",
   "id": "005f3157-22b2-4b6e-8715-da9e1b4f3361",
   "metadata": {},
   "source": [
    "### 6. Qual a quantidade de entregas feitas por cidade?\n",
    "\n"
   ]
  },
  {
   "cell_type": "markdown",
   "id": "1dd05eda-c74b-4f73-8d66-570fffcc4cee",
   "metadata": {},
   "source": [
    "### 7. Qual a média, mediana e desvio padrão das entregas feitas por cidade e por tipo de veículo?\n"
   ]
  },
  {
   "cell_type": "markdown",
   "id": "69e6a776-374b-4d59-b220-c0a114eebea3",
   "metadata": {},
   "source": [
    "### 8. Qual a primeira data de entrega por cada cidade?\n"
   ]
  },
  {
   "cell_type": "markdown",
   "id": "102b3c2b-3ad2-4ce2-87dc-744c93a635ea",
   "metadata": {},
   "source": [
    "### 9. Qual a última data de entrega por cada cidade?\n"
   ]
  },
  {
   "cell_type": "markdown",
   "id": "8e4bace4-791d-4b4f-ab3d-f1470e3840c8",
   "metadata": {},
   "source": [
    "### 10. Qual a média de avaliações das entregas feitas por condições climáticas?\n"
   ]
  },
  {
   "cell_type": "markdown",
   "id": "2fca06e5-11b1-4b41-9c55-efd9db20de6f",
   "metadata": {},
   "source": [
    "### 11. Qual o valor da avaliação mais baixa feita por tipo de condição climática e por densidade de tráfego?\n"
   ]
  },
  {
   "cell_type": "markdown",
   "id": "ba952ec7-e484-4a03-8b7f-0654984e6660",
   "metadata": {},
   "source": [
    "### 12. Qual a média, mediana e desvio padrão das avaliações por cada tipo de condições de veículos?\n"
   ]
  },
  {
   "cell_type": "markdown",
   "id": "3bf2c937-f091-4962-889e-cc5a53bf0bda",
   "metadata": {},
   "source": [
    "### 13. Quantas entreagas foram feitas no Festival?\n"
   ]
  },
  {
   "cell_type": "markdown",
   "id": "050bc2dc-5e49-424c-b8d5-fea1cb516f91",
   "metadata": {},
   "source": [
    "### 14. Qual a avaliação média das entregas feitas no Festival?\n"
   ]
  },
  {
   "cell_type": "markdown",
   "id": "b153df88-7ed2-4b5b-a41d-ee2e5e0c5a60",
   "metadata": {},
   "source": [
    "### 15. Qual a menor avaliação feita em uma entrega no Festival e por cidade?\n"
   ]
  },
  {
   "cell_type": "markdown",
   "id": "399fa48a-15ae-419d-ae80-8a25eab654c9",
   "metadata": {},
   "source": [
    "### 16. Qual a maior avaliação feita por tipo de pedido?\n"
   ]
  },
  {
   "cell_type": "markdown",
   "id": "e8f31552-5ff2-4985-9b05-aeb41a59902c",
   "metadata": {},
   "source": [
    "### 17. Qual a idade do entregador mais velho da planilha de dados?\n"
   ]
  },
  {
   "cell_type": "markdown",
   "id": "66a89b14-3897-4e9f-9b5c-ba508b7a8d7f",
   "metadata": {},
   "source": [
    "### 18. Qual a idade do entregador mais novo da planilha de dados?\n"
   ]
  },
  {
   "cell_type": "markdown",
   "id": "909d9498-9412-4107-ab5f-280df06136a1",
   "metadata": {},
   "source": [
    "### 19. Quantas entregas foram feitas em cada condição climática?\n"
   ]
  },
  {
   "cell_type": "markdown",
   "id": "ccfccbfe-34a3-4fdd-a8a4-e622ac659a41",
   "metadata": {},
   "source": [
    "### 20. Quantas entregas foram feitas em cada tipo de densidade de trânsito?"
   ]
  },
  {
   "cell_type": "code",
   "execution_count": null,
   "id": "516e7ec1-6d53-47c2-b448-1dd639730f05",
   "metadata": {},
   "outputs": [],
   "source": []
  }
 ],
 "metadata": {
  "kernelspec": {
   "display_name": "Python 3 (ipykernel)",
   "language": "python",
   "name": "python3"
  },
  "language_info": {
   "codemirror_mode": {
    "name": "ipython",
    "version": 3
   },
   "file_extension": ".py",
   "mimetype": "text/x-python",
   "name": "python",
   "nbconvert_exporter": "python",
   "pygments_lexer": "ipython3",
   "version": "3.11.10"
  }
 },
 "nbformat": 4,
 "nbformat_minor": 5
}
